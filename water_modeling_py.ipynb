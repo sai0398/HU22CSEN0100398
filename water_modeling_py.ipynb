{
  "nbformat": 4,
  "nbformat_minor": 0,
  "metadata": {
    "colab": {
      "provenance": [],
      "authorship_tag": "ABX9TyOU3gxQ8UQO97ZLD9ePWttt",
      "include_colab_link": true
    },
    "kernelspec": {
      "name": "python3",
      "display_name": "Python 3"
    },
    "language_info": {
      "name": "python"
    }
  },
  "cells": [
    {
      "cell_type": "markdown",
      "metadata": {
        "id": "view-in-github",
        "colab_type": "text"
      },
      "source": [
        "<a href=\"https://colab.research.google.com/github/sai0398/HU22CSEN0100398/blob/main/water_modeling_py.ipynb\" target=\"_parent\"><img src=\"https://colab.research.google.com/assets/colab-badge.svg\" alt=\"Open In Colab\"/></a>"
      ]
    },
    {
      "cell_type": "code",
      "source": [
        "#Implementation weather modeling using the quadratic solution in stages:-hard coding variables, keyboard input, read from a file, for a single set input, multiple sets of inputs."
      ],
      "metadata": {
        "id": "dvEZL4Pn-bPp"
      },
      "execution_count": null,
      "outputs": []
    },
    {
      "cell_type": "code",
      "execution_count": null,
      "metadata": {
        "id": "-Y0K5_l6mlI7"
      },
      "outputs": [],
      "source": [
        "# Temperature function\n",
        "def temperature(a,b,c,time):\n",
        "  temp =a*time*time+b*time+c\n",
        "  return temp"
      ]
    },
    {
      "cell_type": "code",
      "source": [
        "# hard coding variables\n",
        "a,b,c = 0.2,4,7\n",
        "time= 5"
      ],
      "metadata": {
        "id": "uJmKWXSHq58I"
      },
      "execution_count": null,
      "outputs": []
    },
    {
      "cell_type": "code",
      "source": [
        "print(\"temperature from hardcoded variable is \",temperature(a,b,c,time))"
      ],
      "metadata": {
        "colab": {
          "base_uri": "https://localhost:8080/"
        },
        "id": "Z0fAgjqjrZ7O",
        "outputId": "424abb8f-2f72-486f-ed74-853365790bff"
      },
      "execution_count": null,
      "outputs": [
        {
          "output_type": "stream",
          "name": "stdout",
          "text": [
            "temperature from hardcoded variable is  32.0\n"
          ]
        }
      ]
    },
    {
      "cell_type": "code",
      "source": [
        "# keyboard input\n",
        "a=float(input(\"enter the value of a: \"))\n",
        "b=float(input(\"enter the value of b: \"))\n",
        "c=float(input(\"enter the value of c: \"))\n",
        "time = int(input(\"enter the time:\"))"
      ],
      "metadata": {
        "colab": {
          "base_uri": "https://localhost:8080/"
        },
        "id": "RP6vwsuXrxQv",
        "outputId": "70ea4dfe-6829-42ad-860f-572b82dee423"
      },
      "execution_count": null,
      "outputs": [
        {
          "name": "stdout",
          "output_type": "stream",
          "text": [
            "enter the value of a: 0.1\n",
            "enter the value of b: 3\n",
            "enter the value of c: 5\n",
            "enter the time:5\n"
          ]
        }
      ]
    },
    {
      "cell_type": "code",
      "source": [
        "print(\"temperature from keyboard input variable is \",temperature(a,b,c,time))"
      ],
      "metadata": {
        "colab": {
          "base_uri": "https://localhost:8080/"
        },
        "id": "SYuhDG6YthUY",
        "outputId": "07c58a7a-a0b7-46c5-b2f9-fad62c9afc83"
      },
      "execution_count": null,
      "outputs": [
        {
          "output_type": "stream",
          "name": "stdout",
          "text": [
            "temperature from keyboard input variable is  22.5\n"
          ]
        }
      ]
    },
    {
      "cell_type": "code",
      "source": [
        "# Read from a file\n",
        "def read_from_file(input):\n",
        "    with open('input.txt', 'r') as file:\n",
        "        lines = file.readlines()\n",
        "    input = [tuple(map(float, line.strip().split(','))) for line in lines]\n",
        "    return input"
      ],
      "metadata": {
        "id": "KLW6qGp0uLbz"
      },
      "execution_count": null,
      "outputs": []
    },
    {
      "cell_type": "code",
      "source": [
        "# single set input\n",
        "input = read_from_file('/content/input.txt')\n",
        "a, b, c, time = input[0]  # First set of coefficients\n",
        "print(\"temperature from file with single input is \",temperature(a,b,c,time))"
      ],
      "metadata": {
        "colab": {
          "base_uri": "https://localhost:8080/"
        },
        "id": "RaQ7yp8YxRS4",
        "outputId": "0699d8f1-e7a9-4e77-9a1f-fa2fe2f98408"
      },
      "execution_count": 33,
      "outputs": [
        {
          "output_type": "stream",
          "name": "stdout",
          "text": [
            "temperature from file with single input is  20.0\n"
          ]
        }
      ]
    },
    {
      "cell_type": "code",
      "source": [
        "#multiple set of inputs\n",
        "for idx, (a,b,c,time) in enumerate(input):\n",
        "  print(\"temperature from file with multiple input is \",temperature(a,b,c,time))"
      ],
      "metadata": {
        "colab": {
          "base_uri": "https://localhost:8080/"
        },
        "id": "Wwd1hGka2mM4",
        "outputId": "ec0f31f6-69a3-4507-b2b8-4751db19b6c7"
      },
      "execution_count": null,
      "outputs": [
        {
          "output_type": "stream",
          "name": "stdout",
          "text": [
            "temperature from file with multiple input is  20.0\n",
            "temperature from file with multiple input is  378.0\n",
            "temperature from file with multiple input is  63.0\n"
          ]
        }
      ]
    }
  ]
}